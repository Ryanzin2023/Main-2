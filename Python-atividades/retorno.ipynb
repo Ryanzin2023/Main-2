{
 "cells": [
  {
   "cell_type": "code",
   "execution_count": 1,
   "metadata": {},
   "outputs": [
    {
     "name": "stdout",
     "output_type": "stream",
     "text": [
      "Para um valor inicial de R$ 1000.0 e uma taxa de 1628.89\n"
     ]
    }
   ],
   "source": [
    "valor_inicial, taxa_juros_anual, anos = 1000.00 , 0.05, 10\n",
    "\n",
    "valor_final = valor_inicial\n",
    "for ano in range(1,anos+1):\n",
    "    valor_final = valor_final * (1 + taxa_juros_anual)\n",
    "valor_final = round(valor_final, 2)\n",
    "print(f'Para um valor inicial de R$ {valor_inicial} e uma taxa de {valor_final}')"
   ]
  },
  {
   "cell_type": "code",
   "execution_count": 2,
   "metadata": {},
   "outputs": [
    {
     "name": "stdout",
     "output_type": "stream",
     "text": [
      "Para um valor inicial de R$ 1020.0 e uma taxa de 1370.79\n"
     ]
    }
   ],
   "source": [
    "valor_inicial, taxa_juros_anual, anos = 1020.00 , 0.03, 10\n",
    "\n",
    "valor_final = valor_inicial\n",
    "for ano in range(1,anos+1):\n",
    "    valor_final = valor_final * (1 + taxa_juros_anual)\n",
    "valor_final = round(valor_final, 2)\n",
    "print(f'Para um valor inicial de R$ {valor_inicial} e uma taxa de {valor_final}')"
   ]
  },
  {
   "cell_type": "markdown",
   "metadata": {},
   "source": [
    "def <nome>(<param 1>, <param 2>, ...):\n",
    "bloco de código\n",
    "return <valor de retorno>\n",
    "\n",
    "var = <nome da funcao>(<param 1>, <param 2>, ....)"
   ]
  },
  {
   "cell_type": "code",
   "execution_count": 1,
   "metadata": {},
   "outputs": [],
   "source": [
    "def imprime(mensagem: str):\n",
    "    print(mensagem)\n",
    "    return"
   ]
  },
  {
   "cell_type": "code",
   "execution_count": 5,
   "metadata": {},
   "outputs": [],
   "source": [
    "texto = 'Fala pessoal, meu nome é Fulano Fuleiro!'"
   ]
  },
  {
   "cell_type": "code",
   "execution_count": null,
   "metadata": {},
   "outputs": [],
   "source": [
    "imprime(texto)"
   ]
  },
  {
   "cell_type": "code",
   "execution_count": 2,
   "metadata": {},
   "outputs": [],
   "source": [
    "def maiusculo(texto: str) -> str:\n",
    "    text_maiusculo = texto.upper()\n",
    "    return text_maiusculo"
   ]
  },
  {
   "cell_type": "code",
   "execution_count": 3,
   "metadata": {},
   "outputs": [
    {
     "name": "stdout",
     "output_type": "stream",
     "text": [
      "André Perez\n",
      "ANDRÉ PEREZ\n"
     ]
    }
   ],
   "source": [
    "nome  = 'André Perez'\n",
    "print(nome)\n",
    "\n",
    "nome_maiusculo = maiusculo(texto=nome)\n",
    "print(nome_maiusculo)"
   ]
  },
  {
   "cell_type": "code",
   "execution_count": 4,
   "metadata": {},
   "outputs": [],
   "source": [
    "def extrair_usuario_email_provedor(email: str) -> (str, str):\n",
    "    email_separado = email.split(sep='@')\n",
    "    usuario = email_separado[0]\n",
    "    provedor = email_separado[1]\n",
    "    return usuario, provedor"
   ]
  },
  {
   "cell_type": "code",
   "execution_count": 8,
   "metadata": {},
   "outputs": [
    {
     "name": "stdout",
     "output_type": "stream",
     "text": [
      "andre.perez\n",
      "gmail.com\n"
     ]
    }
   ],
   "source": [
    "email = 'andre.perez@gmail.com'\n",
    "usuario, provedor = extrair_usuario_email_provedor(email)\n",
    "print(usuario)\n",
    "print(provedor)"
   ]
  },
  {
   "cell_type": "code",
   "execution_count": 23,
   "metadata": {},
   "outputs": [],
   "source": [
    "def pi() -> float:\n",
    "    return 3.141592653599"
   ]
  },
  {
   "cell_type": "code",
   "execution_count": 24,
   "metadata": {},
   "outputs": [
    {
     "name": "stdout",
     "output_type": "stream",
     "text": [
      "3.141592653599\n"
     ]
    }
   ],
   "source": [
    "pi  = pi()\n",
    "print(pi)"
   ]
  },
  {
   "cell_type": "code",
   "execution_count": 25,
   "metadata": {},
   "outputs": [],
   "source": [
    "def imprime_pi() -> None:\n",
    "    print(3.141592653599)\n",
    "    return None"
   ]
  },
  {
   "cell_type": "code",
   "execution_count": null,
   "metadata": {},
   "outputs": [],
   "source": [
    "nulo = imprime_pi()\n",
    "print(type(nulo))\n",
    "print(f'-> {nulo}')"
   ]
  },
  {
   "cell_type": "code",
   "execution_count": null,
   "metadata": {},
   "outputs": [],
   "source": [
    "def juros_compostos_anual(valor_inicial: float, taxa_juros_anual: float, anos: int) -> float:\n",
    "  valor_final = valor_inicial\n",
    "  for ano in range(1, anos+1):\n",
    "    valor_final = valor_final * (1 + taxa_juros_anual)\n",
    "  valor_final = round(valor_final, 2)\n",
    "  print(f'Para um valor inicial de R$ {valor_inicial} e uma taxa de juros anual de {taxa_juros_anual}, em {anos} anos você terá R$ {valor_final}') \n",
    "  return valor_final\n",
    "\n",
    "valor_inicial, taxa_juros_anual, anos = 1000.00, 0.05, 10\n",
    "valor_final = juros_compostos_anual(valor_inicial=valor_inicial, taxa_juros_anual=taxa_juros_anual, anos=anos)\n",
    "\n",
    "valor_inicial, taxa_juros_anual, anos = 1020.00, 0.03, 10\n",
    "valor_final = juros_compostos_anual(valor_inicial=valor_inicial, taxa_juros_anual=taxa_juros_anual, anos=anos) "
   ]
  },
  {
   "cell_type": "code",
   "execution_count": 1,
   "metadata": {},
   "outputs": [
    {
     "name": "stdout",
     "output_type": "stream",
     "text": [
      "Para um valor inicial de R$ 1000.0 e uma taxa de juros anual de 0.05, em 10 anos você terá R$ 1628.89\n",
      "Para um valor inicial de R$ 1020.0 e uma taxa de juros anual de 0.03, em 10 anos você terá R$ 1370.79\n"
     ]
    }
   ],
   "source": [
    "def juros_compostos_anual(valor_inicial: float, taxa_juros_anual: float, anos: int) -> float:\n",
    "  valor_final = valor_inicial\n",
    "  for ano in range(1, anos+1):\n",
    "    valor_final = valor_final * (1 + taxa_juros_anual)\n",
    "  valor_final = round(valor_final, 2)\n",
    "  print(f'Para um valor inicial de R$ {valor_inicial} e uma taxa de juros anual de {taxa_juros_anual}, em {anos} anos você terá R$ {valor_final}') \n",
    "  return valor_final\n",
    "\n",
    "valor_inicial, taxa_juros_anual, anos = 1000.00, 0.05, 10\n",
    "valor_final = juros_compostos_anual(valor_inicial=valor_inicial, taxa_juros_anual=taxa_juros_anual, anos=anos)\n",
    "\n",
    "valor_inicial, taxa_juros_anual, anos = 1020.00, 0.03, 10\n",
    "valor_final = juros_compostos_anual(valor_inicial=valor_inicial, taxa_juros_anual=taxa_juros_anual, anos=anos) "
   ]
  }
 ],
 "metadata": {
  "kernelspec": {
   "display_name": "Python 3",
   "language": "python",
   "name": "python3"
  },
  "language_info": {
   "codemirror_mode": {
    "name": "ipython",
    "version": 3
   },
   "file_extension": ".py",
   "mimetype": "text/x-python",
   "name": "python",
   "nbconvert_exporter": "python",
   "pygments_lexer": "ipython3",
   "version": "3.12.0"
  }
 },
 "nbformat": 4,
 "nbformat_minor": 2
}
