{
 "cells": [
  {
   "cell_type": "code",
   "execution_count": 1,
   "metadata": {},
   "outputs": [
    {
     "name": "stdout",
     "output_type": "stream",
     "text": [
      "Número: 1, Raiz Quadrada: 1.0\n",
      "Número: 2, Raiz Quadrada: 1.4142135623730951\n",
      "Número: 3, Raiz Quadrada: 1.7320508075688772\n",
      "Número: 4, Raiz Quadrada: 2.0\n",
      "Número: 5, Raiz Quadrada: 2.23606797749979\n",
      "Número: 6, Raiz Quadrada: 2.449489742783178\n",
      "Número: 7, Raiz Quadrada: 2.6457513110645907\n",
      "Número: 8, Raiz Quadrada: 2.8284271247461903\n",
      "Número: 9, Raiz Quadrada: 3.0\n",
      "Número: 10, Raiz Quadrada: 3.1622776601683795\n"
     ]
    }
   ],
   "source": [
    "import math\n",
    "\n",
    "numeros = list(range(1, 11))  \n",
    "for numero in numeros:\n",
    "    raiz_quadrada = math.sqrt(numero)\n",
    "    print(f\"Número: {numero}, Raiz Quadrada: {raiz_quadrada}\")\n"
   ]
  }
 ],
 "metadata": {
  "kernelspec": {
   "display_name": "Python 3",
   "language": "python",
   "name": "python3"
  },
  "language_info": {
   "codemirror_mode": {
    "name": "ipython",
    "version": 3
   },
   "file_extension": ".py",
   "mimetype": "text/x-python",
   "name": "python",
   "nbconvert_exporter": "python",
   "pygments_lexer": "ipython3",
   "version": "3.12.0"
  }
 },
 "nbformat": 4,
 "nbformat_minor": 2
}
