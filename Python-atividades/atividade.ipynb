{
 "cells": [
  {
   "cell_type": "code",
   "execution_count": 8,
   "metadata": {},
   "outputs": [],
   "source": [
    "preco = 137.85\n",
    "pessoas = 1"
   ]
  },
  {
   "cell_type": "code",
   "execution_count": 9,
   "metadata": {},
   "outputs": [],
   "source": [
    "valor_por_pessoa = preco / pessoas"
   ]
  },
  {
   "cell_type": "code",
   "execution_count": 10,
   "metadata": {},
   "outputs": [],
   "source": [
    "nome = 'Andre Perez'\n",
    "idade = True"
   ]
  },
  {
   "cell_type": "code",
   "execution_count": 11,
   "metadata": {},
   "outputs": [
    {
     "name": "stdout",
     "output_type": "stream",
     "text": [
      "Fala pessoal, meu nome é Andre Pereze eu tenho True anos\n"
     ]
    }
   ],
   "source": [
    "apresentacao = 'Fala pessoal, meu nome é ' + nome + 'e eu tenho ' + str(idade) + ' anos'\n",
    "print(apresentacao)"
   ]
  },
  {
   "cell_type": "code",
   "execution_count": 12,
   "metadata": {},
   "outputs": [],
   "source": [
    "anos = [2019, 2020 , 2021]"
   ]
  },
  {
   "cell_type": "code",
   "execution_count": 13,
   "metadata": {},
   "outputs": [],
   "source": [
    "ano_atual = anos[0]"
   ]
  },
  {
   "cell_type": "code",
   "execution_count": 14,
   "metadata": {},
   "outputs": [],
   "source": [
    "cursos = {\n",
    "    'python' :{\n",
    "        'nome': 'Python para análise de Dados', 'duração': 2\n",
    "    },\n",
    "    'sql' :{\n",
    "        'nome': 'SQL para análise de Dados', 'duração': 2\n",
    "    }\n",
    "}"
   ]
  },
  {
   "cell_type": "code",
   "execution_count": 15,
   "metadata": {},
   "outputs": [
    {
     "name": "stdout",
     "output_type": "stream",
     "text": [
      "{'nome': 'Python para análise de Dados', 'duração': 2}\n"
     ]
    }
   ],
   "source": [
    "curso_atual = cursos ['python']\n",
    "print(curso_atual)"
   ]
  },
  {
   "cell_type": "code",
   "execution_count": 16,
   "metadata": {},
   "outputs": [
    {
     "name": "stdout",
     "output_type": "stream",
     "text": [
      "Número de pessoas inválido. Espera-se um valor maior que 0 e obteve-se um valor igual a 0\n"
     ]
    }
   ],
   "source": [
    "preco = 132.85\n",
    "pessoas = 0\n",
    "\n",
    "try:\n",
    "  valor_por_pessoa  = preco / pessoas\n",
    "  print(valor_por_pessoa)\n",
    "except ZeroDivisionError:\n",
    "  print('Número de pessoas inválido.' + \n",
    "        ' Espera-se um valor maior que 0 ' \n",
    "        + 'e obteve-se um valor igual a ' + str(pessoas))"
   ]
  },
  {
   "cell_type": "code",
   "execution_count": 17,
   "metadata": {},
   "outputs": [
    {
     "name": "stdout",
     "output_type": "stream",
     "text": [
      "66.425\n"
     ]
    }
   ],
   "source": [
    "preco = 132.85\n",
    "pessoas = 2\n",
    "\n",
    "try:\n",
    "  valor_por_pessoa  = preco / pessoas\n",
    "  print(valor_por_pessoa)\n",
    "except ZeroDivisionError:\n",
    "  print('Número de pessoas inválido.' + \n",
    "        ' Espera-se um valor maior que 0 ' \n",
    "        + 'e obteve-se um valor igual a ' + str(pessoas))"
   ]
  },
  {
   "cell_type": "code",
   "execution_count": 18,
   "metadata": {},
   "outputs": [
    {
     "name": "stdout",
     "output_type": "stream",
     "text": [
      "Lista de anos é menor que o valor escolhido. Espera-se um valor entre 0 e 4\n"
     ]
    }
   ],
   "source": [
    "anos = [2019, 2020 , 2021 , 2022 , 2023]\n",
    "\n",
    "try:\n",
    "  ano_atual = anos[9]\n",
    "except Exception:\n",
    "  print('Lista de anos é menor que o valor escolhido. ' + \n",
    "        'Espera-se um valor entre 0 e '\n",
    "        + str(len(anos) - 1))"
   ]
  },
  {
   "cell_type": "code",
   "execution_count": 19,
   "metadata": {},
   "outputs": [
    {
     "name": "stdout",
     "output_type": "stream",
     "text": [
      "Descrição da exceção: list index out of range\n",
      "Tipo da exceção: <class 'IndexError'>\n",
      "Lista de anos é menor que o valor escolhido. Espera-se um valor entre 0 e list index out of range\n"
     ]
    }
   ],
   "source": [
    "anos = [2019, 2020 , 2021]\n",
    "\n",
    "try:\n",
    "  ano_atual = anos[3]\n",
    "  print(ano_atual)\n",
    "except Exception as exc:\n",
    "  print('Descrição da exceção: ' + str(exc))\n",
    "  print('Tipo da exceção: ' + str(type(exc)))\n",
    "  print('Lista de anos é menor que o valor escolhido. Espera-se um valor entre 0 e ' + str(exc))"
   ]
  },
  {
   "cell_type": "code",
   "execution_count": 20,
   "metadata": {},
   "outputs": [
    {
     "name": "stdout",
     "output_type": "stream",
     "text": [
      "list indices must be integers or slices, not str\n",
      "Ocorreu um erro inesperado\n"
     ]
    }
   ],
   "source": [
    "anos = [2019, 2020 , 2021]\n",
    "\n",
    "try:\n",
    "  ano_atual = anos['r']\n",
    "  print(ano_atual)\n",
    "except IndexError as exc:\n",
    "  print('Lista de anos é menor que o valor escolhido. Espera-se um valor entre 0 e ' + str(exc))\n",
    "except Exception as exc:\n",
    "  print(exc)\n",
    "  print('Ocorreu um erro inesperado')\n",
    "  "
   ]
  },
  {
   "cell_type": "code",
   "execution_count": 21,
   "metadata": {},
   "outputs": [
    {
     "name": "stdout",
     "output_type": "stream",
     "text": [
      "Segunda chance\n",
      "fala pessoal, meu nome é Andre Perez e eu tenho 19 anos\n"
     ]
    }
   ],
   "source": [
    "nome = 'Andre Perez'\n",
    "idade = 19\n",
    "\n",
    "try:\n",
    "    apresentacao = 'fala pessoal, meu nome é ' + nome + ' e eu tenho ' + idade + ' anos'\n",
    "    print(apresentacao)\n",
    "except TypeError:\n",
    "    idade = str(idade)\n",
    "finally:\n",
    "    print('Segunda chance')\n",
    "    apresentacao = 'fala pessoal, meu nome é ' + nome + ' e eu tenho ' + idade + ' anos'\n",
    "    print(apresentacao)"
   ]
  }
 ],
 "metadata": {
  "kernelspec": {
   "display_name": "Python 3",
   "language": "python",
   "name": "python3"
  },
  "language_info": {
   "codemirror_mode": {
    "name": "ipython",
    "version": 3
   },
   "file_extension": ".py",
   "mimetype": "text/x-python",
   "name": "python",
   "nbconvert_exporter": "python",
   "pygments_lexer": "ipython3",
   "version": "3.12.0"
  }
 },
 "nbformat": 4,
 "nbformat_minor": 2
}
