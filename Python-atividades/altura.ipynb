{
 "cells": [
  {
   "cell_type": "code",
   "execution_count": 17,
   "metadata": {},
   "outputs": [
    {
     "name": "stdout",
     "output_type": "stream",
     "text": [
      "O peso ideal para uma pessoa com altura 1.67m e sexo masculino é 63.41kg.\n",
      "Programa encerrado.\n"
     ]
    }
   ],
   "source": [
    "try:\n",
    "    altura_str = input(\"Digite a altura em metros: \")\n",
    "    sexo = input(\"Digite o sexo (masculino/feminino): \").lower()\n",
    "\n",
    "    if sexo == 'masculino':\n",
    "        peso_ideal = (72.7 * altura) - 58\n",
    "    elif sexo == 'feminino':\n",
    "        peso_ideal = (62.1 * altura) - 44.7\n",
    "    else:\n",
    "        raise ValueError(\"Sexo inválido. Por favor, insira 'masculino' ou 'feminino'.\")\n",
    "\n",
    "    print(f\"O peso ideal para uma pessoa com altura {altura:.2f}m e sexo {sexo} é {peso_ideal:.2f}kg.\")\n",
    "\n",
    "except ValueError as e:\n",
    "    if 'could not convert string to float' in str(e):\n",
    "        print(\"Altura inválida. Por favor, insira um valor numérico para a altura.\")\n",
    "    else:\n",
    "        print(f\"Erro: {e}\")\n",
    "\n",
    "finally:\n",
    "    print(\"Programa encerrado.\")\n",
    "\n"
   ]
  },
  {
   "cell_type": "code",
   "execution_count": null,
   "metadata": {},
   "outputs": [],
   "source": [
    "try:\n",
    "    altura_str = input(\"Digite a altura em metros: \")\n",
    "    altura = float(altura_str)\n",
    "\n",
    "    sexo = input(\"Digite o sexo (m para masculino e f para feminino): \").lower()\n",
    "\n",
    "    if sexo not in ['m', 'f', 'masculino', 'feminino']:\n",
    "        raise ValueError(\"Sexo inválido. Por favor, insira 'm', 'f', 'masculino' ou 'feminino'.\")\n",
    "\n",
    "    if sexo == 'm':\n",
    "        sexo = 'masculino'\n",
    "    elif sexo == 'f':\n",
    "        sexo = 'feminino'\n",
    "\n",
    "    if sexo == 'masculino':\n",
    "        peso_ideal = (72.7 * altura) - 58\n",
    "    elif sexo == 'feminino':\n",
    "        peso_ideal = (62.1 * altura) - 44.7\n",
    "\n",
    "    print(f\"O peso ideal para uma pessoa com altura {altura:.2f}m e sexo {sexo} é {peso_ideal:.2f}kg.\")\n",
    "\n",
    "except ValueError as e:\n",
    "    if 'could not convert string to float' in str(e):\n",
    "        print(\"Isso não é um número! Por favor, insira um valor numérico para a altura.\")\n",
    "    else:\n",
    "        print(f\"Erro: {e}\")\n",
    "\n",
    "finally:\n",
    "    print(\"Programa encerrado.\")\n"
   ]
  }
 ],
 "metadata": {
  "kernelspec": {
   "display_name": "Python 3",
   "language": "python",
   "name": "python3"
  },
  "language_info": {
   "codemirror_mode": {
    "name": "ipython",
    "version": 3
   },
   "file_extension": ".py",
   "mimetype": "text/x-python",
   "name": "python",
   "nbconvert_exporter": "python",
   "pygments_lexer": "ipython3",
   "version": "3.12.0"
  }
 },
 "nbformat": 4,
 "nbformat_minor": 2
}
