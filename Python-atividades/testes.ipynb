{
 "cells": [
  {
   "cell_type": "markdown",
   "metadata": {},
   "source": [
    "if num >= 20 and num <= 50:\n",
    "\n",
    "if 20 <= num <= 50:\n",
    "        Betweem(entre)\n",
    "\n",
    "#simplificacão\n",
    "\n",
    "if num in range(20,51):\n",
    "\n",
    "metodo:\n",
    "range(6,10,2)\n",
    "range(6) -> Ø - 5\n",
    "range(6,10) -> 6 - 9\n",
    "\n",
    "objeto parede:\n",
    "parede()\n",
    "-Cor : Branca\n",
    "-Altura : 1000\n",
    "-largura : 90cm\n",
    "-Profundidade : 20cm \n",
    "-Constituição :Alvenaria\n",
    "-Posição : Corde : x, y, z \n",
    "\n",
    "instanciar:\n",
    "paredeblindada()\n",
    "Herança{Parede + Resistencia} 4200"
   ]
  }
 ],
 "metadata": {
  "language_info": {
   "name": "python"
  }
 },
 "nbformat": 4,
 "nbformat_minor": 2
}
