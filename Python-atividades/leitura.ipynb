{
 "cells": [
  {
   "cell_type": "markdown",
   "metadata": {},
   "source": [
    "Leitura"
   ]
  },
  {
   "cell_type": "code",
   "execution_count": 1,
   "metadata": {},
   "outputs": [
    {
     "name": "stdout",
     "output_type": "stream",
     "text": [
      "Writing Banco.csv\n"
     ]
    }
   ],
   "source": [
    "%%writefile Banco.csv\n",
    "age;job;marital;education;default;balance;housing;loan\n",
    "30;unemployed;married;primary;no;1787;no;no\n",
    "33;services;married;secondary;no;4789;yes;yes\n",
    "35;management;single;tertiary;no;1350;yes;no\n",
    "30;management;married;tertiary;no;1476;yes;yes\n",
    "59;blue-collar;married;secondary;no;0;yes;no\n",
    "35;management;single;tertiary;no;747;no;no\n",
    "36;self-employed;married;tertiary;no;307;yes;no\n",
    "39;technician;married;secondary;no;147;yes;no\n",
    "41;entrepreneur;married;tertiary;no;221;yes;no\n",
    "43;services;married;primary;no;-88;yes;yes"
   ]
  },
  {
   "cell_type": "markdown",
   "metadata": {},
   "source": [
    "With/Open\n",
    "\n",
    "Comando para ler arquivos"
   ]
  },
  {
   "cell_type": "markdown",
   "metadata": {},
   "source": [
    "with open(file='<caminho do arquivo>', mode='<modo de leitura>, encoding='<decoficador>') as <apelido>:\n",
    "    bloco de código"
   ]
  },
  {
   "cell_type": "markdown",
   "metadata": {},
   "source": [
    "Read"
   ]
  },
  {
   "cell_type": "code",
   "execution_count": null,
   "metadata": {},
   "outputs": [],
   "source": [
    "conteudo = None\n",
    "\n",
    "with open(file='Banco.csv', mode='r', encoding='utf8') as arquivo:\n",
    "    conteudo = arquivo.read()\n",
    "\n",
    "    print(conteudo)"
   ]
  }
 ],
 "metadata": {
  "kernelspec": {
   "display_name": "Python 3",
   "language": "python",
   "name": "python3"
  },
  "language_info": {
   "codemirror_mode": {
    "name": "ipython",
    "version": 3
   },
   "file_extension": ".py",
   "mimetype": "text/x-python",
   "name": "python",
   "nbconvert_exporter": "python",
   "pygments_lexer": "ipython3",
   "version": "3.12.0"
  }
 },
 "nbformat": 4,
 "nbformat_minor": 2
}
