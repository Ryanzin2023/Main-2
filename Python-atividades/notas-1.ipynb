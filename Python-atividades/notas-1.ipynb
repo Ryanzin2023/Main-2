{
 "cells": [
  {
   "cell_type": "code",
   "execution_count": null,
   "metadata": {},
   "outputs": [],
   "source": [
    "import csv\n",
    "\n",
    "# Função para corrigir a prova e calcular a nota\n",
    "def corrigir_prova(gabarito, respostas_aluno):\n",
    "    nota = sum([1 for i, resp in enumerate(respostas_aluno) if resp == gabarito[i]])\n",
    "    return nota\n",
    "\n",
    "# Função para calcular o percentual de aprovação\n",
    "def calcular_aprovacao(notas, media_aprovacao=7.0):\n",
    "    total_alunos = len(notas)\n",
    "    aprovados = sum([1 for nota in notas if nota >= media_aprovacao])\n",
    "    percentual_aprovacao = (aprovados / total_alunos) * 100\n",
    "    return percentual_aprovacao\n",
    "\n",
    "# Lista para armazenar as notas dos alunos\n",
    "notas_alunos = []\n",
    "\n",
    "# Gabarito da prova\n",
    "gabarito = ['a', 'b', 'c', 'd', 'e', 'a', 'b', 'c', 'd', 'e']\n",
    "\n",
    "# Número de alunos\n",
    "num_alunos = 3\n",
    "\n",
    "# Abrir arquivo CSV para escrita\n",
    "with open('notas_alunos.csv', mode='w', newline='') as arquivo_csv:\n",
    "    # Criar objeto para escrever no arquivo CSV\n",
    "    escritor_csv = csv.writer(arquivo_csv, delimiter=';')\n",
    "\n",
    "    # Escrever cabeçalho no arquivo CSV\n",
    "    escritor_csv.writerow(['Matricula', 'Respostas', 'Nota'])\n",
    "\n",
    "    # Loop para cada aluno\n",
    "    for _ in range(num_alunos):\n",
    "        # Ler matrícula e respostas do aluno\n",
    "        matricula = int(input('Digite a matrícula do aluno: '))\n",
    "        respostas_aluno = input('Digite as respostas do aluno (sem espaços): ').lower()\n",
    "\n",
    "        # Corrigir prova\n",
    "        nota = corrigir_prova(gabarito, respostas_aluno)\n",
    "\n",
    "        # Adicionar nota à lista de notas dos alunos\n",
    "        notas_alunos.append(nota)\n",
    "\n",
    "        # Escrever no arquivo CSV\n",
    "        escritor_csv.writerow([matricula, respostas_aluno, nota])\n",
    "\n",
    "# Calcular percentual de aprovação\n",
    "percentual_aprovacao = calcular_aprovacao(notas_alunos)\n",
    "\n",
    "# Exibir percentual de aprovação\n",
    "print(f'Percentual de Aprovação: {percentual_aprovacao}%')\n",
    "\n",
    "print('Dados gravados no arquivo \"notas_alunos.csv\"')\n",
    "\n",
    "\n"
   ]
  }
 ],
 "metadata": {
  "kernelspec": {
   "display_name": "Python 3",
   "language": "python",
   "name": "python3"
  },
  "language_info": {
   "codemirror_mode": {
    "name": "ipython",
    "version": 3
   },
   "file_extension": ".py",
   "mimetype": "text/x-python",
   "name": "python",
   "nbconvert_exporter": "python",
   "pygments_lexer": "ipython3",
   "version": "3.12.0"
  }
 },
 "nbformat": 4,
 "nbformat_minor": 2
}
