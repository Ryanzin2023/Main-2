{
 "cells": [
  {
   "cell_type": "code",
   "execution_count": null,
   "metadata": {},
   "outputs": [],
   "source": [
    "def eh_par(numero):\n",
    "    return numero % 2 == 0\n",
    "\n",
    "def eh_primo(numero):\n",
    "    if numero < 2:\n",
    "        return False\n",
    "    for i in range(2, int(numero**0.5) + 1):\n",
    "        if numero % i == 0:\n",
    "            return False\n",
    "    return True\n",
    "\n",
    "def informa_paridade(numero):\n",
    "    if eh_par(numero):\n",
    "        return f\"{numero} é par.\"\n",
    "    else:\n",
    "        return f\"{numero} é ímpar.\"\n",
    "\n",
    "def informa_primalidade(numero):\n",
    "    if eh_primo(numero):\n",
    "        return f\"{numero} é primo.\"\n",
    "    else:\n",
    "        return f\"{numero} não é primo.\"\n",
    "\n",
    "def main():\n",
    "    try:\n",
    "        numero = int(input(\"Digite um número inteiro: \"))\n",
    "        \n",
    "        resultados = [informa_paridade(numero), informa_primalidade(numero)]\n",
    "        \n",
    "        for resultado in resultados:\n",
    "            print(resultado)\n",
    "    \n",
    "    except ValueError:\n",
    "        print(\"Por favor, digite um número inteiro válido.\")\n",
    "\n",
    "if __name__ == \"__main__\":\n",
    "    main()\n"
   ]
  },
  {
   "cell_type": "code",
   "execution_count": null,
   "metadata": {},
   "outputs": [],
   "source": [
    "def eh_par(numero):\n",
    "    return numero % 2 == 0\n",
    "\n",
    "def eh_primo(numero):\n",
    "    if numero < 2:\n",
    "        return False\n",
    "    for i in range(2, int(numero**0.5) + 1):\n",
    "        if numero % i == 0:\n",
    "            return False\n",
    "    return True\n",
    "\n",
    "numero = int(input(\"Digite um número inteiro até 10000: \"))\n",
    "\n",
    "if numero < 0 or numero > 10000:\n",
    "    print(\"Por favor, insira um número entre 0 e 10000.\")\n",
    "else:\n",
    "    if eh_par(numero):\n",
    "        print(f\"{numero} é um número par.\")\n",
    "    else:\n",
    "        print(f\"{numero} é um número ímpar.\")\n",
    "\n",
    "    if eh_primo(numero):\n",
    "        print(f\"{numero} é um número primo.\")\n",
    "    else:\n",
    "        print(f\"{numero} não é um número primo.\")\n"
   ]
  }
 ],
 "metadata": {
  "kernelspec": {
   "display_name": "Python 3",
   "language": "python",
   "name": "python3"
  },
  "language_info": {
   "codemirror_mode": {
    "name": "ipython",
    "version": 3
   },
   "file_extension": ".py",
   "mimetype": "text/x-python",
   "name": "python",
   "nbconvert_exporter": "python",
   "pygments_lexer": "ipython3",
   "version": "3.12.0"
  }
 },
 "nbformat": 4,
 "nbformat_minor": 2
}
